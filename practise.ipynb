{
  "nbformat": 4,
  "nbformat_minor": 0,
  "metadata": {
    "colab": {
      "provenance": [],
      "authorship_tag": "ABX9TyM0ivjv5aBP3MbaxEQ3pTce",
      "include_colab_link": true
    },
    "kernelspec": {
      "name": "python3",
      "display_name": "Python 3"
    },
    "language_info": {
      "name": "python"
    }
  },
  "cells": [
    {
      "cell_type": "markdown",
      "metadata": {
        "id": "view-in-github",
        "colab_type": "text"
      },
      "source": [
        "<a href=\"https://colab.research.google.com/github/Smit-2907/practicals/blob/main/practise.ipynb\" target=\"_parent\"><img src=\"https://colab.research.google.com/assets/colab-badge.svg\" alt=\"Open In Colab\"/></a>"
      ]
    },
    {
      "cell_type": "code",
      "execution_count": 1,
      "metadata": {
        "colab": {
          "base_uri": "https://localhost:8080/"
        },
        "id": "XA1tqo4lvjYZ",
        "outputId": "aca50916-f7d9-445c-9066-a100a9986ab1"
      },
      "outputs": [
        {
          "output_type": "stream",
          "name": "stdout",
          "text": [
            "\n",
            "Series from dictionary:\n",
            " 0    1\n",
            "1    2\n",
            "2    3\n",
            "3    4\n",
            "dtype: int64\n"
          ]
        }
      ],
      "source": [
        "import pandas as pd\n",
        "s2 = pd.Series((1,2,3,4))\n",
        "print(\"\\nSeries from dictionary:\\n\", s2)"
      ]
    },
    {
      "cell_type": "code",
      "source": [
        "data2 = [\n",
        "    ['Smit', 20, 85],\n",
        "    ['Amit', 21, 90],\n",
        "    ['Ravi', 19, 88]\n",
        "]\n",
        "df2 = pd.DataFrame(data2, columns=['Name', 'Age', 'Score'])\n",
        "print(\"\\nDataFrame from list of lists:\\n\", df2)"
      ],
      "metadata": {
        "colab": {
          "base_uri": "https://localhost:8080/"
        },
        "id": "MXjMyD6n7w58",
        "outputId": "e550939c-d27e-4094-fe5a-dd6f4f228504"
      },
      "execution_count": 2,
      "outputs": [
        {
          "output_type": "stream",
          "name": "stdout",
          "text": [
            "\n",
            "DataFrame from list of lists:\n",
            "    Name  Age  Score\n",
            "0  Smit   20     85\n",
            "1  Amit   21     90\n",
            "2  Ravi   19     88\n"
          ]
        }
      ]
    },
    {
      "cell_type": "code",
      "source": [
        "import numpy as np\n",
        "\n",
        "arr = np.array([[1, 2], [3, 4]])\n",
        "df3 = pd.DataFrame(arr, columns=['Col1', 'Col2'])\n",
        "print(\"\\nDataFrame from NumPy array:\\n\", df3)\n"
      ],
      "metadata": {
        "id": "vmvxf2da8KLh",
        "outputId": "54600a71-c321-4548-e8f1-f5c477bd039c",
        "colab": {
          "base_uri": "https://localhost:8080/"
        }
      },
      "execution_count": 3,
      "outputs": [
        {
          "output_type": "stream",
          "name": "stdout",
          "text": [
            "\n",
            "DataFrame from NumPy array:\n",
            "    Col1  Col2\n",
            "0     1     2\n",
            "1     3     4\n"
          ]
        }
      ]
    },
    {
      "cell_type": "code",
      "source": [
        "import pandas as pd\n",
        "\n",
        "data = {\n",
        "    'Name': ['Smit', 'Amit', 'Ravi'],\n",
        "    'Age': [20, 21, 19],\n",
        "    'Score': [85, 90, 88]\n",
        "}\n",
        "df = pd.DataFrame(data)\n",
        "\n",
        "# Select one column\n",
        "print(df)\n",
        "\n",
        "# Select multiple columns\n",
        "print(df[['Name', 'Score']])\n"
      ],
      "metadata": {
        "colab": {
          "base_uri": "https://localhost:8080/"
        },
        "id": "npPwlcfzXhDR",
        "outputId": "403923fc-5d8b-44ba-db4c-b597083440d1"
      },
      "execution_count": 4,
      "outputs": [
        {
          "output_type": "stream",
          "name": "stdout",
          "text": [
            "   Name  Age  Score\n",
            "0  Smit   20     85\n",
            "1  Amit   21     90\n",
            "2  Ravi   19     88\n",
            "   Name  Score\n",
            "0  Smit     85\n",
            "1  Amit     90\n",
            "2  Ravi     88\n"
          ]
        }
      ]
    },
    {
      "cell_type": "code",
      "source": [
        "print(df.loc[0])\n",
        "print(\"\\n\",df.iloc[0])"
      ],
      "metadata": {
        "colab": {
          "base_uri": "https://localhost:8080/"
        },
        "id": "6z5X8PbJXyX6",
        "outputId": "dc5deddd-21a4-472a-acc5-a88d2e8cfcd9"
      },
      "execution_count": 5,
      "outputs": [
        {
          "output_type": "stream",
          "name": "stdout",
          "text": [
            "Name     Smit\n",
            "Age        20\n",
            "Score      85\n",
            "Name: 0, dtype: object\n",
            "\n",
            " Name     Smit\n",
            "Age        20\n",
            "Score      85\n",
            "Name: 0, dtype: object\n"
          ]
        }
      ]
    },
    {
      "cell_type": "code",
      "source": [
        "print(df.loc[1, 'Score'])\n",
        "print(df.iloc[1, 2])\n",
        "print(df[df['Score'] > 85])"
      ],
      "metadata": {
        "colab": {
          "base_uri": "https://localhost:8080/"
        },
        "id": "Au2-QUyeYRoa",
        "outputId": "4dbce08d-9307-4ebd-c7cc-1a186be2b59c"
      },
      "execution_count": 6,
      "outputs": [
        {
          "output_type": "stream",
          "name": "stdout",
          "text": [
            "90\n",
            "90\n",
            "   Name  Age  Score\n",
            "1  Amit   21     90\n",
            "2  Ravi   19     88\n"
          ]
        }
      ]
    },
    {
      "cell_type": "code",
      "source": [
        "# Test\n",
        "# 1. Create your own DataFrame with 5 rows\n",
        "data_frame = {\n",
        "    'Name' : ['Smit', 'Shruti', 'Ketan', 'Pavan', 'Amit', 'Bharat'],\n",
        "    'Age' : [21, 19, 20, 22, 24, 22],\n",
        "    'Score' : [89, 86, 82, 50, 69, 33]\n",
        "}\n",
        "df = pd.DataFrame(data_frame)\n",
        "print(df)\n",
        "# 2. Print only names of people with score > 87\n",
        "print(df[df['Score'] > 87])\n",
        "# 3. Print age of the 3rd person (using iloc)\n",
        "print(\"\\n\",df.iloc[2])"
      ],
      "metadata": {
        "colab": {
          "base_uri": "https://localhost:8080/"
        },
        "id": "Owv4llDFhwqZ",
        "outputId": "be760d0e-5dd9-4d37-d415-e4d819c949a8"
      },
      "execution_count": 7,
      "outputs": [
        {
          "output_type": "stream",
          "name": "stdout",
          "text": [
            "     Name  Age  Score\n",
            "0    Smit   21     89\n",
            "1  Shruti   19     86\n",
            "2   Ketan   20     82\n",
            "3   Pavan   22     50\n",
            "4    Amit   24     69\n",
            "5  Bharat   22     33\n",
            "   Name  Age  Score\n",
            "0  Smit   21     89\n",
            "\n",
            " Name     Ketan\n",
            "Age         20\n",
            "Score       82\n",
            "Name: 2, dtype: object\n"
          ]
        }
      ]
    },
    {
      "cell_type": "code",
      "source": [
        "from google.colab import drive\n",
        "drive.mount('/content/drive')"
      ],
      "metadata": {
        "colab": {
          "base_uri": "https://localhost:8080/"
        },
        "id": "KPZn0CvjIE6b",
        "outputId": "b1ba6932-35d1-43a7-aa87-2fdd2ba45054"
      },
      "execution_count": 8,
      "outputs": [
        {
          "output_type": "stream",
          "name": "stdout",
          "text": [
            "Mounted at /content/drive\n"
          ]
        }
      ]
    },
    {
      "cell_type": "code",
      "source": [
        "import pandas as pd\n",
        "\n",
        "df = pd.read_csv('/content/sample_data/mnist_test.csv')\n",
        "print(df.head())"
      ],
      "metadata": {
        "colab": {
          "base_uri": "https://localhost:8080/"
        },
        "id": "Ul_3LmyIjA-m",
        "outputId": "58878b40-835b-461d-8851-2f8c821b3f39"
      },
      "execution_count": 9,
      "outputs": [
        {
          "output_type": "stream",
          "name": "stdout",
          "text": [
            "   7  0  0.1  0.2  0.3  0.4  0.5  0.6  0.7  0.8  ...  0.658  0.659  0.660  \\\n",
            "0  2  0    0    0    0    0    0    0    0    0  ...      0      0      0   \n",
            "1  1  0    0    0    0    0    0    0    0    0  ...      0      0      0   \n",
            "2  0  0    0    0    0    0    0    0    0    0  ...      0      0      0   \n",
            "3  4  0    0    0    0    0    0    0    0    0  ...      0      0      0   \n",
            "4  1  0    0    0    0    0    0    0    0    0  ...      0      0      0   \n",
            "\n",
            "   0.661  0.662  0.663  0.664  0.665  0.666  0.667  \n",
            "0      0      0      0      0      0      0      0  \n",
            "1      0      0      0      0      0      0      0  \n",
            "2      0      0      0      0      0      0      0  \n",
            "3      0      0      0      0      0      0      0  \n",
            "4      0      0      0      0      0      0      0  \n",
            "\n",
            "[5 rows x 785 columns]\n"
          ]
        }
      ]
    },
    {
      "cell_type": "code",
      "source": [
        "df.to_csv('/content/sample_data/output.csv', index=False)"
      ],
      "metadata": {
        "id": "G-mLLXE9NCj2"
      },
      "execution_count": 11,
      "outputs": []
    },
    {
      "cell_type": "code",
      "source": [
        "import pandas as pd\n",
        "import numpy as np\n",
        "\n",
        "data = {\n",
        "    'Name': ['Smit', 'Amit', 'Ravi', 'Ketan', None],\n",
        "    'Age': [21, 22, np.nan, 20, 23],\n",
        "    'Score': [85, np.nan, 75, 90, np.nan]\n",
        "}\n",
        "df = pd.DataFrame(data)\n",
        "print(df)\n"
      ],
      "metadata": {
        "colab": {
          "base_uri": "https://localhost:8080/"
        },
        "id": "Gsxoj6n2TBhK",
        "outputId": "b635ff34-0b8f-4b41-c21f-99ffa51a27a0"
      },
      "execution_count": 46,
      "outputs": [
        {
          "output_type": "stream",
          "name": "stdout",
          "text": [
            "    Name   Age  Score\n",
            "0   Smit  21.0   85.0\n",
            "1   Amit  22.0    NaN\n",
            "2   Ravi   NaN   75.0\n",
            "3  Ketan  20.0   90.0\n",
            "4   None  23.0    NaN\n"
          ]
        }
      ]
    },
    {
      "cell_type": "code",
      "source": [
        "#df.isnull() # detects if there is an nan value exists or not\n",
        "#df.isnull().sum() # Gives the total number of missing values per column.\n",
        "#df.dropna() # it will drop alrows with any missing values.\n",
        "#df.dropna(axis=1) # Removes all cols with any missing values.\n",
        "df.fillna(0)  # it will fill all nans with zero\n",
        "#df['Age'].fillna(df['Age'].mean()) # replace nan's value from zero to mean of age\n",
        "df['Score'].fillna(method='ffill') # replace nan's value from zero to"
      ],
      "metadata": {
        "colab": {
          "base_uri": "https://localhost:8080/",
          "height": 275
        },
        "collapsed": true,
        "id": "5iLK6UlsUJjn",
        "outputId": "e29d5bb3-4b2d-4b3f-99cd-883cf971c3d6"
      },
      "execution_count": 43,
      "outputs": [
        {
          "output_type": "stream",
          "name": "stderr",
          "text": [
            "/tmp/ipython-input-535261324.py:7: FutureWarning: Series.fillna with 'method' is deprecated and will raise in a future version. Use obj.ffill() or obj.bfill() instead.\n",
            "  df['Score'].fillna(method='ffill')\n"
          ]
        },
        {
          "output_type": "execute_result",
          "data": {
            "text/plain": [
              "0    85.0\n",
              "1    85.0\n",
              "2    75.0\n",
              "3    90.0\n",
              "4    90.0\n",
              "Name: Score, dtype: float64"
            ],
            "text/html": [
              "<div>\n",
              "<style scoped>\n",
              "    .dataframe tbody tr th:only-of-type {\n",
              "        vertical-align: middle;\n",
              "    }\n",
              "\n",
              "    .dataframe tbody tr th {\n",
              "        vertical-align: top;\n",
              "    }\n",
              "\n",
              "    .dataframe thead th {\n",
              "        text-align: right;\n",
              "    }\n",
              "</style>\n",
              "<table border=\"1\" class=\"dataframe\">\n",
              "  <thead>\n",
              "    <tr style=\"text-align: right;\">\n",
              "      <th></th>\n",
              "      <th>Score</th>\n",
              "    </tr>\n",
              "  </thead>\n",
              "  <tbody>\n",
              "    <tr>\n",
              "      <th>0</th>\n",
              "      <td>85.0</td>\n",
              "    </tr>\n",
              "    <tr>\n",
              "      <th>1</th>\n",
              "      <td>85.0</td>\n",
              "    </tr>\n",
              "    <tr>\n",
              "      <th>2</th>\n",
              "      <td>75.0</td>\n",
              "    </tr>\n",
              "    <tr>\n",
              "      <th>3</th>\n",
              "      <td>90.0</td>\n",
              "    </tr>\n",
              "    <tr>\n",
              "      <th>4</th>\n",
              "      <td>90.0</td>\n",
              "    </tr>\n",
              "  </tbody>\n",
              "</table>\n",
              "</div><br><label><b>dtype:</b> float64</label>"
            ]
          },
          "metadata": {},
          "execution_count": 43
        }
      ]
    },
    {
      "cell_type": "code",
      "source": [
        "import pandas as pd\n",
        "import numpy as np\n",
        "\n",
        "data = {\n",
        "    'Name': ['Ravi', 'Anita', None, 'Zoya', 'Karan'],\n",
        "    'Age': [22, None, 21, None, 25],\n",
        "    'Score': [89, 75, None, 60, None]\n",
        "}\n",
        "\n",
        "df = pd.DataFrame(data)\n",
        "# How many missing values are in each column?\n",
        "print(\"mission value are in each column is: \", df.isnull().sum())\n",
        "# Fill all missing 'Score' values with -1\n",
        "df['Score'].fillna(-1, inplace=True)\n",
        "# Fill all missing 'Age' values with the median age\n",
        "df['Age'].fillna(df['Age'].median(), inplace=True)\n",
        "# Drop any row where Name is missing\n",
        "df.dropna(subset=['Name'], inplace=True)\n",
        "# After all this, print the cleaned DataFrame\n",
        "print(\"cleared Darafrme is:\\n \",df)"
      ],
      "metadata": {
        "colab": {
          "base_uri": "https://localhost:8080/"
        },
        "id": "86SQmUTi2emI",
        "outputId": "9824fe36-5d4a-4bb0-af5b-0541320e4349"
      },
      "execution_count": 78,
      "outputs": [
        {
          "output_type": "stream",
          "name": "stdout",
          "text": [
            "mission value are in each column is:  Name     1\n",
            "Age      2\n",
            "Score    2\n",
            "dtype: int64\n",
            "cleared Darafrme is:\n",
            "      Name   Age  Score\n",
            "0   Ravi  22.0   89.0\n",
            "1  Anita  22.0   75.0\n",
            "3   Zoya  22.0   60.0\n",
            "4  Karan  25.0   -1.0\n"
          ]
        },
        {
          "output_type": "stream",
          "name": "stderr",
          "text": [
            "/tmp/ipython-input-3047724308.py:14: FutureWarning: A value is trying to be set on a copy of a DataFrame or Series through chained assignment using an inplace method.\n",
            "The behavior will change in pandas 3.0. This inplace method will never work because the intermediate object on which we are setting values always behaves as a copy.\n",
            "\n",
            "For example, when doing 'df[col].method(value, inplace=True)', try using 'df.method({col: value}, inplace=True)' or df[col] = df[col].method(value) instead, to perform the operation inplace on the original object.\n",
            "\n",
            "\n",
            "  df['Score'].fillna(-1, inplace=True)\n",
            "/tmp/ipython-input-3047724308.py:16: FutureWarning: A value is trying to be set on a copy of a DataFrame or Series through chained assignment using an inplace method.\n",
            "The behavior will change in pandas 3.0. This inplace method will never work because the intermediate object on which we are setting values always behaves as a copy.\n",
            "\n",
            "For example, when doing 'df[col].method(value, inplace=True)', try using 'df.method({col: value}, inplace=True)' or df[col] = df[col].method(value) instead, to perform the operation inplace on the original object.\n",
            "\n",
            "\n",
            "  df['Age'].fillna(df['Age'].median(), inplace=True)\n"
          ]
        }
      ]
    },
    {
      "cell_type": "code",
      "source": [
        "#         Basic stat and aggregation in pandas\n",
        "import pandas as pd\n",
        "\n",
        "data = {\n",
        "    'Name': ['Smit', 'Shruti', 'Ketan', 'Pavan', 'Amit'],\n",
        "    'Age': [21, 19, 20, 22, 24],\n",
        "    'Score': [89, 86, 82, 50, 69]\n",
        "}\n",
        "\n",
        "df = pd.DataFrame(data)\n",
        "# df.describe()  # Summary stats for numeric columns\n",
        "# df['Score'].mean()  # Mean (average) of the 'Score'\n",
        "# df['Age'].median()  # Median age\n",
        "# df['Score'].max()   # Highest score\n",
        "# df['Score'].min()   # Lowest score\n",
        "# df['Age'].std()     # Standard deviation\n",
        "# df['Age'].var()     # Variance\n",
        "df.agg({\n",
        "    'Age': ['mean', 'max', 'min'],\n",
        "    'Score': ['mean', 'std']\n",
        "})\n"
      ],
      "metadata": {
        "colab": {
          "base_uri": "https://localhost:8080/",
          "height": 175
        },
        "id": "XW7EEu8w5h85",
        "outputId": "e00b238c-925b-4bd5-b000-5322e99c1e0a"
      },
      "execution_count": 20,
      "outputs": [
        {
          "output_type": "execute_result",
          "data": {
            "text/plain": [
              "       Age     Score\n",
              "mean  21.2  75.20000\n",
              "max   24.0       NaN\n",
              "min   19.0       NaN\n",
              "std    NaN  16.02186"
            ],
            "text/html": [
              "\n",
              "  <div id=\"df-fd4cd9bc-fdbc-42f0-a74d-44177f4e505b\" class=\"colab-df-container\">\n",
              "    <div>\n",
              "<style scoped>\n",
              "    .dataframe tbody tr th:only-of-type {\n",
              "        vertical-align: middle;\n",
              "    }\n",
              "\n",
              "    .dataframe tbody tr th {\n",
              "        vertical-align: top;\n",
              "    }\n",
              "\n",
              "    .dataframe thead th {\n",
              "        text-align: right;\n",
              "    }\n",
              "</style>\n",
              "<table border=\"1\" class=\"dataframe\">\n",
              "  <thead>\n",
              "    <tr style=\"text-align: right;\">\n",
              "      <th></th>\n",
              "      <th>Age</th>\n",
              "      <th>Score</th>\n",
              "    </tr>\n",
              "  </thead>\n",
              "  <tbody>\n",
              "    <tr>\n",
              "      <th>mean</th>\n",
              "      <td>21.2</td>\n",
              "      <td>75.20000</td>\n",
              "    </tr>\n",
              "    <tr>\n",
              "      <th>max</th>\n",
              "      <td>24.0</td>\n",
              "      <td>NaN</td>\n",
              "    </tr>\n",
              "    <tr>\n",
              "      <th>min</th>\n",
              "      <td>19.0</td>\n",
              "      <td>NaN</td>\n",
              "    </tr>\n",
              "    <tr>\n",
              "      <th>std</th>\n",
              "      <td>NaN</td>\n",
              "      <td>16.02186</td>\n",
              "    </tr>\n",
              "  </tbody>\n",
              "</table>\n",
              "</div>\n",
              "    <div class=\"colab-df-buttons\">\n",
              "\n",
              "  <div class=\"colab-df-container\">\n",
              "    <button class=\"colab-df-convert\" onclick=\"convertToInteractive('df-fd4cd9bc-fdbc-42f0-a74d-44177f4e505b')\"\n",
              "            title=\"Convert this dataframe to an interactive table.\"\n",
              "            style=\"display:none;\">\n",
              "\n",
              "  <svg xmlns=\"http://www.w3.org/2000/svg\" height=\"24px\" viewBox=\"0 -960 960 960\">\n",
              "    <path d=\"M120-120v-720h720v720H120Zm60-500h600v-160H180v160Zm220 220h160v-160H400v160Zm0 220h160v-160H400v160ZM180-400h160v-160H180v160Zm440 0h160v-160H620v160ZM180-180h160v-160H180v160Zm440 0h160v-160H620v160Z\"/>\n",
              "  </svg>\n",
              "    </button>\n",
              "\n",
              "  <style>\n",
              "    .colab-df-container {\n",
              "      display:flex;\n",
              "      gap: 12px;\n",
              "    }\n",
              "\n",
              "    .colab-df-convert {\n",
              "      background-color: #E8F0FE;\n",
              "      border: none;\n",
              "      border-radius: 50%;\n",
              "      cursor: pointer;\n",
              "      display: none;\n",
              "      fill: #1967D2;\n",
              "      height: 32px;\n",
              "      padding: 0 0 0 0;\n",
              "      width: 32px;\n",
              "    }\n",
              "\n",
              "    .colab-df-convert:hover {\n",
              "      background-color: #E2EBFA;\n",
              "      box-shadow: 0px 1px 2px rgba(60, 64, 67, 0.3), 0px 1px 3px 1px rgba(60, 64, 67, 0.15);\n",
              "      fill: #174EA6;\n",
              "    }\n",
              "\n",
              "    .colab-df-buttons div {\n",
              "      margin-bottom: 4px;\n",
              "    }\n",
              "\n",
              "    [theme=dark] .colab-df-convert {\n",
              "      background-color: #3B4455;\n",
              "      fill: #D2E3FC;\n",
              "    }\n",
              "\n",
              "    [theme=dark] .colab-df-convert:hover {\n",
              "      background-color: #434B5C;\n",
              "      box-shadow: 0px 1px 3px 1px rgba(0, 0, 0, 0.15);\n",
              "      filter: drop-shadow(0px 1px 2px rgba(0, 0, 0, 0.3));\n",
              "      fill: #FFFFFF;\n",
              "    }\n",
              "  </style>\n",
              "\n",
              "    <script>\n",
              "      const buttonEl =\n",
              "        document.querySelector('#df-fd4cd9bc-fdbc-42f0-a74d-44177f4e505b button.colab-df-convert');\n",
              "      buttonEl.style.display =\n",
              "        google.colab.kernel.accessAllowed ? 'block' : 'none';\n",
              "\n",
              "      async function convertToInteractive(key) {\n",
              "        const element = document.querySelector('#df-fd4cd9bc-fdbc-42f0-a74d-44177f4e505b');\n",
              "        const dataTable =\n",
              "          await google.colab.kernel.invokeFunction('convertToInteractive',\n",
              "                                                    [key], {});\n",
              "        if (!dataTable) return;\n",
              "\n",
              "        const docLinkHtml = 'Like what you see? Visit the ' +\n",
              "          '<a target=\"_blank\" href=https://colab.research.google.com/notebooks/data_table.ipynb>data table notebook</a>'\n",
              "          + ' to learn more about interactive tables.';\n",
              "        element.innerHTML = '';\n",
              "        dataTable['output_type'] = 'display_data';\n",
              "        await google.colab.output.renderOutput(dataTable, element);\n",
              "        const docLink = document.createElement('div');\n",
              "        docLink.innerHTML = docLinkHtml;\n",
              "        element.appendChild(docLink);\n",
              "      }\n",
              "    </script>\n",
              "  </div>\n",
              "\n",
              "\n",
              "    <div id=\"df-24155201-f952-4262-9463-ffc51a7a7c62\">\n",
              "      <button class=\"colab-df-quickchart\" onclick=\"quickchart('df-24155201-f952-4262-9463-ffc51a7a7c62')\"\n",
              "                title=\"Suggest charts\"\n",
              "                style=\"display:none;\">\n",
              "\n",
              "<svg xmlns=\"http://www.w3.org/2000/svg\" height=\"24px\"viewBox=\"0 0 24 24\"\n",
              "     width=\"24px\">\n",
              "    <g>\n",
              "        <path d=\"M19 3H5c-1.1 0-2 .9-2 2v14c0 1.1.9 2 2 2h14c1.1 0 2-.9 2-2V5c0-1.1-.9-2-2-2zM9 17H7v-7h2v7zm4 0h-2V7h2v10zm4 0h-2v-4h2v4z\"/>\n",
              "    </g>\n",
              "</svg>\n",
              "      </button>\n",
              "\n",
              "<style>\n",
              "  .colab-df-quickchart {\n",
              "      --bg-color: #E8F0FE;\n",
              "      --fill-color: #1967D2;\n",
              "      --hover-bg-color: #E2EBFA;\n",
              "      --hover-fill-color: #174EA6;\n",
              "      --disabled-fill-color: #AAA;\n",
              "      --disabled-bg-color: #DDD;\n",
              "  }\n",
              "\n",
              "  [theme=dark] .colab-df-quickchart {\n",
              "      --bg-color: #3B4455;\n",
              "      --fill-color: #D2E3FC;\n",
              "      --hover-bg-color: #434B5C;\n",
              "      --hover-fill-color: #FFFFFF;\n",
              "      --disabled-bg-color: #3B4455;\n",
              "      --disabled-fill-color: #666;\n",
              "  }\n",
              "\n",
              "  .colab-df-quickchart {\n",
              "    background-color: var(--bg-color);\n",
              "    border: none;\n",
              "    border-radius: 50%;\n",
              "    cursor: pointer;\n",
              "    display: none;\n",
              "    fill: var(--fill-color);\n",
              "    height: 32px;\n",
              "    padding: 0;\n",
              "    width: 32px;\n",
              "  }\n",
              "\n",
              "  .colab-df-quickchart:hover {\n",
              "    background-color: var(--hover-bg-color);\n",
              "    box-shadow: 0 1px 2px rgba(60, 64, 67, 0.3), 0 1px 3px 1px rgba(60, 64, 67, 0.15);\n",
              "    fill: var(--button-hover-fill-color);\n",
              "  }\n",
              "\n",
              "  .colab-df-quickchart-complete:disabled,\n",
              "  .colab-df-quickchart-complete:disabled:hover {\n",
              "    background-color: var(--disabled-bg-color);\n",
              "    fill: var(--disabled-fill-color);\n",
              "    box-shadow: none;\n",
              "  }\n",
              "\n",
              "  .colab-df-spinner {\n",
              "    border: 2px solid var(--fill-color);\n",
              "    border-color: transparent;\n",
              "    border-bottom-color: var(--fill-color);\n",
              "    animation:\n",
              "      spin 1s steps(1) infinite;\n",
              "  }\n",
              "\n",
              "  @keyframes spin {\n",
              "    0% {\n",
              "      border-color: transparent;\n",
              "      border-bottom-color: var(--fill-color);\n",
              "      border-left-color: var(--fill-color);\n",
              "    }\n",
              "    20% {\n",
              "      border-color: transparent;\n",
              "      border-left-color: var(--fill-color);\n",
              "      border-top-color: var(--fill-color);\n",
              "    }\n",
              "    30% {\n",
              "      border-color: transparent;\n",
              "      border-left-color: var(--fill-color);\n",
              "      border-top-color: var(--fill-color);\n",
              "      border-right-color: var(--fill-color);\n",
              "    }\n",
              "    40% {\n",
              "      border-color: transparent;\n",
              "      border-right-color: var(--fill-color);\n",
              "      border-top-color: var(--fill-color);\n",
              "    }\n",
              "    60% {\n",
              "      border-color: transparent;\n",
              "      border-right-color: var(--fill-color);\n",
              "    }\n",
              "    80% {\n",
              "      border-color: transparent;\n",
              "      border-right-color: var(--fill-color);\n",
              "      border-bottom-color: var(--fill-color);\n",
              "    }\n",
              "    90% {\n",
              "      border-color: transparent;\n",
              "      border-bottom-color: var(--fill-color);\n",
              "    }\n",
              "  }\n",
              "</style>\n",
              "\n",
              "      <script>\n",
              "        async function quickchart(key) {\n",
              "          const quickchartButtonEl =\n",
              "            document.querySelector('#' + key + ' button');\n",
              "          quickchartButtonEl.disabled = true;  // To prevent multiple clicks.\n",
              "          quickchartButtonEl.classList.add('colab-df-spinner');\n",
              "          try {\n",
              "            const charts = await google.colab.kernel.invokeFunction(\n",
              "                'suggestCharts', [key], {});\n",
              "          } catch (error) {\n",
              "            console.error('Error during call to suggestCharts:', error);\n",
              "          }\n",
              "          quickchartButtonEl.classList.remove('colab-df-spinner');\n",
              "          quickchartButtonEl.classList.add('colab-df-quickchart-complete');\n",
              "        }\n",
              "        (() => {\n",
              "          let quickchartButtonEl =\n",
              "            document.querySelector('#df-24155201-f952-4262-9463-ffc51a7a7c62 button');\n",
              "          quickchartButtonEl.style.display =\n",
              "            google.colab.kernel.accessAllowed ? 'block' : 'none';\n",
              "        })();\n",
              "      </script>\n",
              "    </div>\n",
              "\n",
              "    </div>\n",
              "  </div>\n"
            ],
            "application/vnd.google.colaboratory.intrinsic+json": {
              "type": "dataframe",
              "summary": "{\n  \"name\": \"})\",\n  \"rows\": 4,\n  \"fields\": [\n    {\n      \"column\": \"Age\",\n      \"properties\": {\n        \"dtype\": \"number\",\n        \"std\": 2.5059928172283334,\n        \"min\": 19.0,\n        \"max\": 24.0,\n        \"num_unique_values\": 3,\n        \"samples\": [\n          21.2,\n          24.0,\n          19.0\n        ],\n        \"semantic_type\": \"\",\n        \"description\": \"\"\n      }\n    },\n    {\n      \"column\": \"Score\",\n      \"properties\": {\n        \"dtype\": \"number\",\n        \"std\": 41.8452640447748,\n        \"min\": 16.02186006679624,\n        \"max\": 75.2,\n        \"num_unique_values\": 2,\n        \"samples\": [\n          16.02186006679624,\n          75.2\n        ],\n        \"semantic_type\": \"\",\n        \"description\": \"\"\n      }\n    }\n  ]\n}"
            }
          },
          "metadata": {},
          "execution_count": 20
        }
      ]
    },
    {
      "cell_type": "code",
      "source": [
        "# 1. Print average score\n",
        "print(df['Score'].mean())\n",
        "# 2. Print summary statistics for Age column\n",
        "print(df['Age'].describe())\n",
        "# 3. What is the most common score?\n",
        "print(df['Score'].mode())\n",
        "# 4. What is the range of ages (max - min)?\n",
        "print(df['Age'].max() - df['Age'].min())"
      ],
      "metadata": {
        "colab": {
          "base_uri": "https://localhost:8080/"
        },
        "id": "wPz8cfCwaa6V",
        "outputId": "7d64db31-17c8-4a65-e7dc-71d3c2e872a5"
      },
      "execution_count": 23,
      "outputs": [
        {
          "output_type": "stream",
          "name": "stdout",
          "text": [
            "75.2\n",
            "count     5.000000\n",
            "mean     21.200000\n",
            "std       1.923538\n",
            "min      19.000000\n",
            "25%      20.000000\n",
            "50%      21.000000\n",
            "75%      22.000000\n",
            "max      24.000000\n",
            "Name: Age, dtype: float64\n",
            "0    50\n",
            "1    69\n",
            "2    82\n",
            "3    86\n",
            "4    89\n",
            "Name: Score, dtype: int64\n",
            "5\n"
          ]
        }
      ]
    },
    {
      "cell_type": "code",
      "source": [
        "# groupby\n",
        "# import pandas as pd\n",
        "\n",
        "# data = {\n",
        "#     'Department': ['IT', 'HR', 'IT', 'HR', 'IT', 'Finance'],\n",
        "#     'Employee': ['Amit', 'Neha', 'Raj', 'Kavya', 'Ravi', 'Anil'],\n",
        "#     'Salary': [60000, 50000, 65000, 48000, 62000, 70000]\n",
        "# }\n",
        "\n",
        "# df = pd.DataFrame(data)\n",
        "\n",
        "# print(df.groupby('Department')['Salary'].mean()) # Average salary per department\n",
        "# print(df.groupby('Department')['Employee'].count()) # Count of employees per department\n",
        "# print(df.groupby('Department')['Salary'].max()) # Maximum salary in each department\n",
        "# # Test\n",
        "import pandas as pd\n",
        "\n",
        "data = {\n",
        "    'Employee': ['Amit', 'Neha', 'Ravi', 'Simran', 'Ajay', 'Tina', 'Rahul', 'Karan'],\n",
        "    'Department': ['HR', 'IT', 'IT', 'HR', 'Finance', 'Finance', 'IT', 'HR'],\n",
        "    'Salary': [50000, 60000, 58000, 52000, 45000, 47000, 61000, 51000]\n",
        "}\n",
        "\n",
        "df = pd.DataFrame(data)\n",
        "# Print the total salary paid per department\n",
        "#print(df.groupby('Department')['Salary'].sum())\n",
        "# Print the average salary in the IT department only\n",
        "print(df[df['Department'] == 'IT']['Salary'].mean()) # this is called boolean filtering\n",
        "# Which department has the highest total salary? (print department name)\n",
        "print(df.groupby('Department')['Salary'].sum().idxmax())\n",
        "# Print number of employees in each department\n",
        "print(df.groupby('Department')['Employee'].count())\n",
        "# How many departments have more than 2 employees?\n",
        "print((df.groupby('Department')['Employee'].count() > 2).sum())"
      ],
      "metadata": {
        "colab": {
          "base_uri": "https://localhost:8080/"
        },
        "id": "RmwvgMOfdXDi",
        "outputId": "e10256a9-8e86-4581-9d53-e37f837ea3d5"
      },
      "execution_count": 1,
      "outputs": [
        {
          "output_type": "stream",
          "name": "stdout",
          "text": [
            "59666.666666666664\n",
            "IT\n",
            "Department\n",
            "Finance    2\n",
            "HR         3\n",
            "IT         3\n",
            "Name: Employee, dtype: int64\n",
            "2\n"
          ]
        }
      ]
    },
    {
      "cell_type": "code",
      "source": [
        "# Merging / Joining DataFrames\n",
        "# import pandas as pd\n",
        "\n",
        "# # Employee Info\n",
        "# employees = pd.DataFrame({\n",
        "#     'EmpID': [1, 2, 3, 4],\n",
        "#     'Name': ['Amit', 'Neha', 'Ravi', 'Tina']\n",
        "# })\n",
        "\n",
        "# # Salary Info\n",
        "# salaries = pd.DataFrame({\n",
        "#     'EmpID': [2, 4, 3, 5],\n",
        "#     'Salary': [60000, 52000, 58000, 49000]\n",
        "# })\n",
        "\n",
        "# # Merge on EmpID\n",
        "# merged = pd.merge(employees, salaries, on='EmpID', how='inner')\n",
        "# print(merged)\n",
        "# Test\n",
        "students = pd.DataFrame({\n",
        "    'StudentID': [101, 102, 103, 104],\n",
        "    'Name': ['Alice', 'Bob', 'Charlie', 'David']\n",
        "})\n",
        "\n",
        "grades = pd.DataFrame({\n",
        "    'StudentID': [102, 104, 105],\n",
        "    'Grade': ['A', 'B', 'C']\n",
        "})\n",
        "\n",
        "# 1. Perform an inner join\n",
        "merged = pd.merge(students, grades, on='StudentID', how = 'inner')\n",
        "print(\"Inner join = \", merged)\n",
        "# 2. Perform a left join\n",
        "left_join = pd.merge(students, grades, on='StudentID', how = 'left')\n",
        "print(\"Left join = \", left_join)\n",
        "# 3. Perform an outer join\n",
        "outer_join = pd.merge(students, grades, on='StudentID', how = 'outer')\n",
        "print(\"Outer join = \", outer_join)\n",
        "# 4. Print students who do not have grades (use left join + filter)\n",
        "print(left_join[left_join['Grade'].isnull()])"
      ],
      "metadata": {
        "colab": {
          "base_uri": "https://localhost:8080/"
        },
        "id": "w-0y4nz3HgLp",
        "outputId": "b4a45f9d-3d9e-423b-e0c2-8cb0b4189720"
      },
      "execution_count": 10,
      "outputs": [
        {
          "output_type": "stream",
          "name": "stdout",
          "text": [
            "Inner join =     StudentID   Name Grade\n",
            "0        102    Bob     A\n",
            "1        104  David     B\n",
            "Left join =     StudentID     Name Grade\n",
            "0        101    Alice   NaN\n",
            "1        102      Bob     A\n",
            "2        103  Charlie   NaN\n",
            "3        104    David     B\n",
            "Outer join =     StudentID     Name Grade\n",
            "0        101    Alice   NaN\n",
            "1        102      Bob     A\n",
            "2        103  Charlie   NaN\n",
            "3        104    David     B\n",
            "4        105      NaN     C\n",
            "   StudentID     Name Grade\n",
            "0        101    Alice   NaN\n",
            "2        103  Charlie   NaN\n"
          ]
        }
      ]
    },
    {
      "cell_type": "code",
      "source": [
        "# DateTime Handling in Pandas\n",
        "data = {\n",
        "    'Event' : ['Exam', 'Seminar', 'Workshop', 'Hackathon'],\n",
        "    'Date' : ['2025-08-01', '2025-08-05', '2025-08-07', '2023-08-10']\n",
        "}\n",
        "df = pd.DataFrame(data)\n",
        "df['Date'] = pd.to_datetime(df['Date'])\n",
        "# print(df)\n",
        "print(df['Date'].dt.day_name())"
      ],
      "metadata": {
        "colab": {
          "base_uri": "https://localhost:8080/"
        },
        "id": "vemY3lZiP2Hy",
        "outputId": "30ad7639-a581-48f6-9609-c7321d65bb83"
      },
      "execution_count": 14,
      "outputs": [
        {
          "output_type": "stream",
          "name": "stdout",
          "text": [
            "0      Friday\n",
            "1     Tuesday\n",
            "2    Thursday\n",
            "3    Thursday\n",
            "Name: Date, dtype: object\n"
          ]
        }
      ]
    }
  ]
}